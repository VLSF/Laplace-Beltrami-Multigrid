{
 "cells": [
  {
   "cell_type": "code",
   "execution_count": 1,
   "metadata": {
    "collapsed": true
   },
   "outputs": [],
   "source": [
    "import numpy as np\n",
    "import matplotlib.pyplot as plt\n",
    "import solvers\n",
    "import equations_gallery\n",
    "\n",
    "%matplotlib inline"
   ]
  },
  {
   "cell_type": "markdown",
   "metadata": {},
   "source": [
    "Linear FAS solver by default consists of\n",
    "\n",
    "1) pre smoother: alternating zebra Gauss-Seidel\n",
    "\n",
    "2) post smoother: the same\n",
    "\n",
    "3) number of pre smoothing steps is one\n",
    "\n",
    "4) number of the post smoothing step is one\n",
    "\n",
    "5) coarse solver is iterative and coincides with the smoother alternating zebra Gauss-Seidel\n",
    "\n",
    "6) coarsest grid contains $25$ points including boundary\n",
    "\n",
    "7) linear restriction\n",
    "\n",
    "8) linear interpolation\n",
    "\n",
    "see ``class FAS_solver`` for more details."
   ]
  },
  {
   "cell_type": "code",
   "execution_count": 2,
   "metadata": {
    "collapsed": true
   },
   "outputs": [],
   "source": [
    "lFAS = solvers.FAS_solver('linear', verbose = True)"
   ]
  },
  {
   "cell_type": "markdown",
   "metadata": {},
   "source": [
    "One of the default equations created for tests."
   ]
  },
  {
   "cell_type": "code",
   "execution_count": 3,
   "metadata": {
    "collapsed": true
   },
   "outputs": [],
   "source": [
    "q22 = equations_gallery.get_quasilinear(2, 2)"
   ]
  },
  {
   "cell_type": "code",
   "execution_count": 5,
   "metadata": {},
   "outputs": [
    {
     "name": "stdout",
     "output_type": "stream",
     "text": [
      "Tolerance is 0.00098\n",
      "Iteration 0\n",
      "          Defect 1 = 6.4e+04, Defect 2 = 2.1e+05\n",
      "Iteration 1\n",
      "          Defect 1 = 3.8e+02, Defect 2 = 7e+02\n",
      "Iteration 2\n",
      "          Defect 1 = 9.5, Defect 2 = 1.6e+01\n",
      "Iteration 3\n",
      "          Defect 1 = 0.31, Defect 2 = 0.45\n",
      "Iteration 4\n",
      "          Defect 1 = 0.011, Defect 2 = 0.015\n",
      "Iteration 5\n",
      "          Defect 1 = 0.00036, Defect 2 = 0.00053\n"
     ]
    }
   ],
   "source": [
    "solution = lFAS.solve(q22, J=5)"
   ]
  },
  {
   "cell_type": "markdown",
   "metadata": {},
   "source": [
    "The exact solution is known so it is possible to compute an error"
   ]
  },
  {
   "cell_type": "code",
   "execution_count": 6,
   "metadata": {},
   "outputs": [
    {
     "data": {
      "text/plain": [
       "array([  4.59439458e-06,   1.08833775e-04])"
      ]
     },
     "execution_count": 6,
     "metadata": {},
     "output_type": "execute_result"
    }
   ],
   "source": [
    "q22.errors(solution)"
   ]
  },
  {
   "cell_type": "markdown",
   "metadata": {},
   "source": [
    "---"
   ]
  },
  {
   "cell_type": "markdown",
   "metadata": {},
   "source": [
    "Nonlinear FAS solver"
   ]
  },
  {
   "cell_type": "code",
   "execution_count": 7,
   "metadata": {
    "collapsed": true
   },
   "outputs": [],
   "source": [
    "FAS = solvers.FAS_solver('nonlinear', verbose = True)"
   ]
  },
  {
   "cell_type": "markdown",
   "metadata": {},
   "source": [
    "Harmonic equation. Linearization is performed by taking contravariant metric coefficients from the previous step."
   ]
  },
  {
   "cell_type": "code",
   "execution_count": 9,
   "metadata": {},
   "outputs": [],
   "source": [
    "harmonic = equations_gallery.get_harmonic('Frozen Metrics')"
   ]
  },
  {
   "cell_type": "markdown",
   "metadata": {},
   "source": [
    "Boundary conditions should be specified in the special format"
   ]
  },
  {
   "cell_type": "code",
   "execution_count": 10,
   "metadata": {
    "collapsed": true
   },
   "outputs": [],
   "source": [
    "def triangle_bc(current):\n",
    "    u, v = current\n",
    "    N, M = u.shape\n",
    "    z = np.linspace(0, 1, N)\n",
    "    x, y = np.meshgrid(z, z, indexing='ij')\n",
    "    eps1 = 0.1\n",
    "    eps2 = 0.1\n",
    "    ###\n",
    "    u[:, 0] = x[:, 0]\n",
    "    u[:, -1] = 0.5*z\n",
    "    u[0, :] = x[0, :]\n",
    "    u[-1, :] = 1 - 0.5*z\n",
    "    ###\n",
    "    v[:, -1] = 1 - 0.5*z\n",
    "    v[:, 0] = y[:, 0]\n",
    "    v[0, :] = y[0, :]\n",
    "    v[-1, :] = 0.5*z\n",
    "    ###\n",
    "    return np.array([u, v])"
   ]
  },
  {
   "cell_type": "code",
   "execution_count": 11,
   "metadata": {
    "collapsed": true
   },
   "outputs": [],
   "source": [
    "harmonic.bc = triangle_bc"
   ]
  },
  {
   "cell_type": "code",
   "execution_count": 13,
   "metadata": {},
   "outputs": [
    {
     "name": "stdout",
     "output_type": "stream",
     "text": [
      "Tolerance is 0.0039\n",
      "Iteration 0\n",
      "          Defect 1 = 6.2e+03, Defect 2 = 6.2e+03\n",
      "Iteration 1\n",
      "          Defect 1 = 1.8e+01, Defect 2 = 1.8e+01\n",
      "Iteration 2\n",
      "          Defect 1 = 0.28, Defect 2 = 0.28\n",
      "Iteration 3\n",
      "          Defect 1 = 0.026, Defect 2 = 0.026\n",
      "Iteration 4\n",
      "          Defect 1 = 0.0037, Defect 2 = 0.0037\n"
     ]
    }
   ],
   "source": [
    "solution = FAS.solve(harmonic, 4)"
   ]
  },
  {
   "cell_type": "code",
   "execution_count": null,
   "metadata": {
    "collapsed": true
   },
   "outputs": [],
   "source": []
  }
 ],
 "metadata": {
  "kernelspec": {
   "display_name": "Python 3",
   "language": "python",
   "name": "python3"
  },
  "language_info": {
   "codemirror_mode": {
    "name": "ipython",
    "version": 3
   },
   "file_extension": ".py",
   "mimetype": "text/x-python",
   "name": "python",
   "nbconvert_exporter": "python",
   "pygments_lexer": "ipython3",
   "version": "3.6.3"
  }
 },
 "nbformat": 4,
 "nbformat_minor": 2
}
